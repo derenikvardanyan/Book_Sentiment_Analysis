{
 "cells": [
  {
   "cell_type": "markdown",
   "id": "445871e4-275e-478e-9d0e-760a8a3592c9",
   "metadata": {},
   "source": [
    "# Load the book"
   ]
  },
  {
   "cell_type": "code",
   "execution_count": 1,
   "id": "e0db6ec7-d8b4-4c36-b08e-5df8b084ba26",
   "metadata": {
    "tags": []
   },
   "outputs": [],
   "source": [
    "with open(\"miracle_in_the_andes.txt\", \"r\", encoding=\"utf8\") as file:\n",
    "    book = file.read()"
   ]
  },
  {
   "cell_type": "markdown",
   "id": "cea8d807-5b2e-4a00-80b8-1a584f06b812",
   "metadata": {},
   "source": [
    "## The most used words (non-articles)"
   ]
  },
  {
   "cell_type": "code",
   "execution_count": 5,
   "id": "6aef8cf5-5f4f-45ce-8370-cb37429380c1",
   "metadata": {
    "tags": []
   },
   "outputs": [],
   "source": [
    "import re\n",
    "pattern = re.compile(\"[a-zA-Z]+\")\n",
    "findings = re.findall(pattern, book)\n"
   ]
  },
  {
   "cell_type": "code",
   "execution_count": 6,
   "id": "52845842-7243-4c8b-9e88-bfecb8f42e92",
   "metadata": {
    "tags": []
   },
   "outputs": [],
   "source": [
    "d = {}\n",
    "for word in findings:\n",
    "    if word in d.keys():\n",
    "        d[word] = d[word] + 1\n",
    "    else:\n",
    "        d[word] = 1"
   ]
  },
  {
   "cell_type": "code",
   "execution_count": 10,
   "id": "bf31da54-10de-4d20-aa84-eec9d42fcf16",
   "metadata": {
    "tags": []
   },
   "outputs": [],
   "source": [
    "d_list = [(value, key) for (key, value) in d.items()]\n",
    "d_list = sorted(d_list, reverse=True)\n"
   ]
  },
  {
   "cell_type": "code",
   "execution_count": 15,
   "id": "c0186453-a3ba-48fc-a499-cca9ce4bbbc7",
   "metadata": {
    "tags": []
   },
   "outputs": [
    {
     "name": "stdout",
     "output_type": "stream",
     "text": [
      "Requirement already satisfied: nltk in c:\\users\\user\\documents\\book_analysis\\venv\\lib\\site-packages (3.8.1)\n",
      "Requirement already satisfied: click in c:\\users\\user\\documents\\book_analysis\\venv\\lib\\site-packages (from nltk) (8.1.3)\n",
      "Requirement already satisfied: regex>=2021.8.3 in c:\\users\\user\\documents\\book_analysis\\venv\\lib\\site-packages (from nltk) (2022.10.31)\n",
      "Requirement already satisfied: joblib in c:\\users\\user\\documents\\book_analysis\\venv\\lib\\site-packages (from nltk) (1.2.0)\n",
      "Requirement already satisfied: tqdm in c:\\users\\user\\documents\\book_analysis\\venv\\lib\\site-packages (from nltk) (4.65.0)\n",
      "Requirement already satisfied: colorama in c:\\users\\user\\documents\\book_analysis\\venv\\lib\\site-packages (from click->nltk) (0.4.6)\n"
     ]
    },
    {
     "name": "stderr",
     "output_type": "stream",
     "text": [
      "WARNING: You are using pip version 21.3.1; however, version 23.0.1 is available.\n",
      "You should consider upgrading via the 'C:\\Users\\User\\Documents\\book_analysis\\venv\\Scripts\\python.exe -m pip install --upgrade pip' command.\n"
     ]
    }
   ],
   "source": [
    "!pip install nltk"
   ]
  },
  {
   "cell_type": "code",
   "execution_count": 23,
   "id": "9b1723f1-2f6f-4b54-9a9a-00cc83000c13",
   "metadata": {
    "tags": []
   },
   "outputs": [],
   "source": [
    "import nltk\n",
    "\n",
    "from nltk.corpus import stopwords\n",
    "english_stopwords = stopwords.words(\"english\")"
   ]
  },
  {
   "cell_type": "code",
   "execution_count": 24,
   "id": "3e850be0-427f-40c6-b49c-af53e5094634",
   "metadata": {
    "tags": []
   },
   "outputs": [],
   "source": [
    "filtered_words = []\n",
    "for count, word in d_list:\n",
    "    if word not in english_stopwords:\n",
    "        filtered_words.append((count, word))"
   ]
  },
  {
   "cell_type": "markdown",
   "id": "2161a34f-1bf1-40c6-b63c-ced595d653a8",
   "metadata": {},
   "source": [
    "## Sentiment Analysis: What is the most positive and most negative chapter?"
   ]
  },
  {
   "cell_type": "code",
   "execution_count": null,
   "id": "c7d9e2bb-5d39-4f55-800b-a98aee88c7fb",
   "metadata": {},
   "outputs": [],
   "source": [
    "### An example"
   ]
  },
  {
   "cell_type": "code",
   "execution_count": 25,
   "id": "e8233785-e66a-4d84-9c6e-bb99fc1c4387",
   "metadata": {
    "tags": []
   },
   "outputs": [],
   "source": [
    "from nltk.sentiment import SentimentIntensityAnalyzer"
   ]
  },
  {
   "cell_type": "code",
   "execution_count": 30,
   "id": "0a49dd31-15a3-4f67-8df6-63b4d4cbc4f6",
   "metadata": {
    "tags": []
   },
   "outputs": [
    {
     "name": "stdout",
     "output_type": "stream",
     "text": [
      "The sentence is positive.\n"
     ]
    }
   ],
   "source": [
    "analyzer = SentimentIntensityAnalyzer()\n",
    "scores = analyzer.polarity_scores(\"Hey, look how beautiful the trees are, I love them!\")\n",
    "if scores['pos'] > scores['neg']:\n",
    "    print(\"The sentence is positive.\")"
   ]
  },
  {
   "cell_type": "code",
   "execution_count": 31,
   "id": "4d8c2841-ce97-469f-abab-f164cc6b4241",
   "metadata": {
    "tags": []
   },
   "outputs": [
    {
     "data": {
      "text/plain": [
       "{'neg': 0.116, 'neu': 0.76, 'pos': 0.125, 'compound': 1.0}"
      ]
     },
     "execution_count": 31,
     "metadata": {},
     "output_type": "execute_result"
    }
   ],
   "source": [
    "analyzer.polarity_scores(book)"
   ]
  },
  {
   "cell_type": "code",
   "execution_count": 32,
   "id": "2ea1b9c2-dfb4-4d85-963d-61539a99d8e8",
   "metadata": {
    "tags": []
   },
   "outputs": [],
   "source": [
    "### Chapters Analysis"
   ]
  },
  {
   "cell_type": "code",
   "execution_count": 33,
   "id": "ebd751a9-a038-46ba-b044-0d5022a3d4be",
   "metadata": {
    "tags": []
   },
   "outputs": [],
   "source": [
    "import re"
   ]
  },
  {
   "cell_type": "code",
   "execution_count": 38,
   "id": "0b4b80c0-1f7d-413f-9549-d515aac7eeab",
   "metadata": {
    "tags": []
   },
   "outputs": [],
   "source": [
    "pattern = re.compile(\"Chapters [0-9]+\")\n",
    "chapters = re.split(pattern, book)"
   ]
  },
  {
   "cell_type": "code",
   "execution_count": 41,
   "id": "d2293dab-ea55-40b6-9c5a-ca3b5b17e747",
   "metadata": {
    "tags": []
   },
   "outputs": [
    {
     "name": "stdout",
     "output_type": "stream",
     "text": [
      "1 {'neg': 0.116, 'neu': 0.76, 'pos': 0.125, 'compound': 1.0}\n"
     ]
    }
   ],
   "source": [
    "for num, chapter in enumerate(chapters):\n",
    "    scores = analyzer.polarity_scores(chapter)\n",
    "    print(num + 1, scores)"
   ]
  },
  {
   "cell_type": "code",
   "execution_count": null,
   "id": "cab95486-702c-4f23-95b4-1c92fc0fb718",
   "metadata": {},
   "outputs": [],
   "source": []
  }
 ],
 "metadata": {
  "kernelspec": {
   "display_name": "Python 3 (ipykernel)",
   "language": "python",
   "name": "python3"
  },
  "language_info": {
   "codemirror_mode": {
    "name": "ipython",
    "version": 3
   },
   "file_extension": ".py",
   "mimetype": "text/x-python",
   "name": "python",
   "nbconvert_exporter": "python",
   "pygments_lexer": "ipython3",
   "version": "3.10.6"
  }
 },
 "nbformat": 4,
 "nbformat_minor": 5
}
